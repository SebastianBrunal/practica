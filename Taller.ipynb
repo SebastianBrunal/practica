{
 "cells": [
  {
   "cell_type": "code",
   "execution_count": 12,
   "metadata": {},
   "outputs": [
    {
     "ename": "ValueError",
     "evalue": "could not convert string to float: 'D'",
     "output_type": "error",
     "traceback": [
      "\u001b[1;31m---------------------------------------------------------------------------\u001b[0m",
      "\u001b[1;31mValueError\u001b[0m                                Traceback (most recent call last)",
      "Cell \u001b[1;32mIn[12], line 2\u001b[0m\n\u001b[0;32m      1\u001b[0m letra\u001b[38;5;241m=\u001b[39m\u001b[38;5;28minput\u001b[39m(\u001b[38;5;124m\"\u001b[39m\u001b[38;5;124mingrese p si deseas converir de pesos a dolares y si es al contrario ingresa d: \u001b[39m\u001b[38;5;124m\"\u001b[39m)\n\u001b[1;32m----> 2\u001b[0m Valor\u001b[38;5;241m=\u001b[39m\u001b[38;5;28;43mfloat\u001b[39;49m\u001b[43m(\u001b[49m\u001b[38;5;28;43minput\u001b[39;49m\u001b[43m(\u001b[49m\u001b[38;5;124;43m\"\u001b[39;49m\u001b[38;5;124;43mingrese su valor a convertir: \u001b[39;49m\u001b[38;5;124;43m\"\u001b[39;49m\u001b[43m)\u001b[49m\u001b[43m)\u001b[49m\n\u001b[0;32m      3\u001b[0m letra\u001b[38;5;241m=\u001b[39mletra\u001b[38;5;241m.\u001b[39mupper()\n\u001b[0;32m      4\u001b[0m peso\u001b[38;5;241m=\u001b[39m\u001b[38;5;241m4000\u001b[39m\n",
      "\u001b[1;31mValueError\u001b[0m: could not convert string to float: 'D'"
     ]
    }
   ],
   "source": [
    "letra=input(\"ingrese p si deseas converir de pesos a dolares y si es al contrario ingresa d: \")\n",
    "Valor=float(input(\"ingrese su valor a convertir: \"))\n",
    "letra=letra.upper()\n",
    "peso=4000\n",
    "dolar=1\n",
    " if letra == 'P':\n",
    "    dolar=Valor\n",
    "    Valor=dolar / peso\n",
    "    print(f\"su conversion a dolares son {Valor} dolar(es) \")\n",
    "elif letra == 'D':\n",
    "  peso=Valor\n",
    "    Valor=dolar * peso\n",
    "    print(f\"Su conversion a pesos {Valor} pesos\")\n"
   ]
  },
  {
   "cell_type": "code",
   "execution_count": 3,
   "metadata": {},
   "outputs": [
    {
     "name": "stdout",
     "output_type": "stream",
     "text": [
      "el valor de su pera es de 7200.0\n"
     ]
    }
   ],
   "source": [
    "cantidad_de_peras= int(input(\"cuantas peras deseas coprar\"))\n",
    "\n",
    "precio_de_la_pera=2000\n",
    "\n",
    "precio_total= precio_de_la_pera*cantidad_de_peras\n",
    "\n",
    "if cantidad_de_peras <=2:\n",
    "    descuento=0\n",
    "elif cantidad_de_peras <=5:\n",
    "    descuento=0.1\n",
    "elif cantidad_de_peras <=10:\n",
    "    descuento=0.15\n",
    "elif cantidad_de_peras >=11:\n",
    "    descuento=0.18\n",
    "descuentos_pesos=precio_total*descuento\n",
    "precioFinal=precio_total - descuentos_pesos\n",
    "print(f\"el valor de su pera es de {precioFinal}\") "
   ]
  },
  {
   "cell_type": "code",
   "execution_count": null,
   "metadata": {},
   "outputs": [
    {
     "name": "stdout",
     "output_type": "stream",
     "text": [
      "el descuento obtenido es 30000.0 y aplicado a su compra le quedaria en 170000.0\n"
     ]
    }
   ],
   "source": [
    "import random\n",
    "totalCompra=float(input(\"ingrese el total de su compra\"))\n",
    "numeroRandom=random.randint(1,100)\n",
    "\n",
    "if numeroRandom < 74:\n",
    "    descuentos=totalCompra * 0.15\n",
    "else:\n",
    "    descuentos=totalCompra * 0.2\n",
    "aplicado=totalCompra - descuentos\n",
    "print(f\"el descuento obtenido es {descuentos} y aplicado a su compra le quedaria en {aplicado}\")"
   ]
  },
  {
   "cell_type": "code",
   "execution_count": null,
   "metadata": {},
   "outputs": [
    {
     "name": "stdout",
     "output_type": "stream",
     "text": [
      "Malo\n"
     ]
    }
   ],
   "source": [
    "letra=input(\"ingrese una letra de la A a la E\")\n",
    "letra=letra.upper()\n",
    "\n",
    "if letra == 'A':\n",
    "    print(f\"excelente\")\n",
    "elif letra == 'B':\n",
    "    print(f\"Bueno\")\n",
    "elif letra == 'C':\n",
    "    print(f\"Regular\")\n",
    "elif letra == 'D':\n",
    "    print(f\"Malo\")\n",
    "elif letra == 'E':\n",
    "    print(f\"Pesimo\")\n",
    "else:\n",
    "    print(\"ERROR ingrese letra de la A a la E\")\n"
   ]
  },
  {
   "cell_type": "code",
   "execution_count": null,
   "metadata": {},
   "outputs": [
    {
     "name": "stdout",
     "output_type": "stream",
     "text": [
      "ingresa una Categoria correcta\n"
     ]
    }
   ],
   "source": [
    "sueldo=int(input(\"Ingresa Tu sueldo\"))\n",
    "\n",
    "categoria=float(input(\"cual es tu categoria\"))\n",
    "\n",
    "if categoria ==1:\n",
    "    aumento=sueldo * 0.15\n",
    "    cuantoSubio=aumento + sueldo\n",
    "    print(f\"tu Aumento sera de del 15% exactamente : {aumento} eso quiere decir que ganaras {cuantoSubio}\")\n",
    "elif categoria ==2:\n",
    "    aumento=sueldo * 0.1\n",
    "    cuantoSubio=aumento + sueldo\n",
    "    print(f\"tu Aumento sera de del 10% exactamente : {aumento} eso quiere decir que ganaras {cuantoSubio}\")\n",
    "elif categoria ==3:\n",
    "    aumento=sueldo * 0.08\n",
    "    cuantoSubio=aumento + sueldo\n",
    "    print(f\"tu Aumento sera de del 8% exactamente : {aumento} eso quiere decir que ganaras {cuantoSubio}\")\n",
    "elif categoria ==4:\n",
    "    aumento=sueldo * 0.07\n",
    "    cuantoSubio=aumento + sueldo\n",
    "    print(f\"tu Aumento sera de del 7% exactamente : {aumento} eso quiere decir que ganaras {cuantoSubio}\")\n",
    "else:\n",
    "    print(f\"ingresa una Categoria correcta\")"
   ]
  },
  {
   "cell_type": "code",
   "execution_count": null,
   "metadata": {},
   "outputs": [
    {
     "name": "stdout",
     "output_type": "stream",
     "text": [
      "\n",
      "RESUMEN DE PRODUCTOS POR RUBRO\n",
      "panaderia 0\n",
      "Almacen 0\n",
      "frescos 1\n",
      "bazar 0\n"
     ]
    }
   ],
   "source": [
    "cantidadPanaderia=0\n",
    "cantidadAlmacen=0\n",
    "cantidadFrescos=0\n",
    "cantidadBazar=0\n",
    "\n",
    "numeroArticulo=int(input(\"ingrese numero de articulo\"))\n",
    "for i in range(numeroArticulo):\n",
    "    codigo = int(input(f\"Ingrese el código del artículo {i+1} (10, 20, 30, 40): \"))\n",
    "if codigo ==10:\n",
    "    cantidadPanaderia +=1\n",
    "elif codigo ==20:\n",
    "    cantidadAlmacen +=1\n",
    "elif codigo == 30:\n",
    "    cantidadFrescos +=1\n",
    "elif codigo == 40:\n",
    "    cantidadFrescos +=1\n",
    "else:\n",
    "    print(f\"ingrese un codigo correcto {codigo}\")\n",
    "print(f\"\\nRESUMEN DE PRODUCTOS POR RUBRO\")\n",
    "print(f\"panaderia {cantidadPanaderia}\")\n",
    "print(f\"Almacen {cantidadAlmacen}\")\n",
    "print(f\"frescos {cantidadFrescos}\")\n",
    "print(f\"bazar {cantidadBazar}\")\n",
    "      \n",
    "\n",
    "\n"
   ]
  },
  {
   "cell_type": "code",
   "execution_count": null,
   "metadata": {},
   "outputs": [
    {
     "name": "stdout",
     "output_type": "stream",
     "text": [
      "Felicidades acabas de ganar el 20% de descuento eso equivale a que tu compra queda en 16000.0\n"
     ]
    }
   ],
   "source": [
    "total=float(input(\"ingrese el valor de su compra\"))\n",
    "letra=input(\"Tienes la posibilidad de ganar descuentos elige una bola R es Roja A es Azul y Blanca es B\")\n",
    "letra=letra.upper()\n",
    "if letra == 'R':\n",
    "    descuento=total * 0.3\n",
    "    resultadofinal=total - descuento\n",
    "    print(F\"Felicidades acabas de ganar el 30% de descuento eso equivale a que tu compra queda en {resultadofinal}\")\n",
    "elif letra == 'A':\n",
    "    descuento=total * 0.2\n",
    "    resultadofinal=total - descuento\n",
    "    print(F\"Felicidades acabas de ganar el 20% de descuento eso equivale a que tu compra queda en {resultadofinal}\")\n",
    "elif letra == 'B':\n",
    "    print(f\"Lo siento no Ganaste Nada\")\n",
    "else:\n",
    "    print(f\"ERROR ingrese de nuevo\")"
   ]
  }
 ],
 "metadata": {
  "kernelspec": {
   "display_name": "Python 3",
   "language": "python",
   "name": "python3"
  },
  "language_info": {
   "codemirror_mode": {
    "name": "ipython",
    "version": 3
   },
   "file_extension": ".py",
   "mimetype": "text/x-python",
   "name": "python",
   "nbconvert_exporter": "python",
   "pygments_lexer": "ipython3",
   "version": "3.12.4"
  }
 },
 "nbformat": 4,
 "nbformat_minor": 2
}
