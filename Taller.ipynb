{
 "cells": [
  {
   "cell_type": "code",
   "execution_count": null,
   "metadata": {},
   "outputs": [],
   "source": [
    "moneda = input(\"Ingresa la moneda que deseas convertir cop o ingresa usd: \").upper()\n",
    "Valor = float(input(\"Ingrese el valor: \"))\n",
    "usd = 1\n",
    "cop = 4000\n",
    "if moneda == \"COP\":\n",
    "    Valor *=4000\n",
    "    print(f\"cop {Valor:,.2f}\")\n",
    "else:\n",
    "    Valor /= 4000\n",
    "    print(f\"Usd {Valor:,.2f}\")"
   ]
  },
  {
   "cell_type": "code",
   "execution_count": null,
   "metadata": {},
   "outputs": [],
   "source": [
    "usuario = int(input(\"Ingresa un numero: \"))\n",
    "if usuario > 0:\n",
    "    print(f\"Tu numero es positivo\")\n",
    "else:\n",
    "    print(f\"Tu numero es negativo\")"
   ]
  },
  {
   "cell_type": "code",
   "execution_count": null,
   "metadata": {},
   "outputs": [],
   "source": [
    "num = float(input(\"Ingresa el primer numero: \"))\n",
    "num2 = float(input(\"Ingresa el segundo numero: \"))\n",
    "if num > num2:\n",
    "    print(f\"El numero mayor es {num}\")\n",
    "else:\n",
    "    print(f\"El numero mayor es {num2}\")"
   ]
  },
  {
   "cell_type": "code",
   "execution_count": null,
   "metadata": {},
   "outputs": [],
   "source": [
    "print(f\"Buen dia por favor ingresa los siguientes datos para estimar el precio del tiquete\")\n",
    "\n",
    "Distancia = float(input(\"Ingresa la distancia a recorrer: \"))\n",
    "Estadia = int(input(\"Ingresa los dias de estadia: \"))\n",
    "\n",
    "km1 = 275000\n",
    "valor_de_km = km1*Distancia\n",
    "\n",
    "if Estadia > 7 and Distancia > 80:\n",
    "    descuento = valor_de_km * 0.30\n",
    "    precio_final = valor_de_km - descuento\n",
    "    print(f\"el precio final es del {precio_final:,.3f} \")\n",
    "else:\n",
    "    print(f\"el precio del tiquet es del {valor_de_km:,.3f}\")"
   ]
  },
  {
   "cell_type": "code",
   "execution_count": null,
   "metadata": {},
   "outputs": [],
   "source": [
    "print(f\"Este programa se hizo con el fin de Calcular el valor de la jornada\")\n",
    "\n",
    "\n",
    "hora_diurna = 7000\n",
    "hora_nocturna = 9000\n",
    "\n",
    "\n",
    "usuario = int(input(\"Ingrese sus horas laboradas: \"))\n",
    "usuario1 = input(\"Ingrese el día laborado: \").upper()\n",
    "usuario2 = input(\"¿Laboró de noche o día?: \").upper()\n",
    "\n",
    "\n",
    "if usuario1 == \"DOMINGO\":\n",
    "    hora_diurna += 2000  \n",
    "    hora_nocturna += 3000  \n",
    "\n",
    "\n",
    "if usuario2 == \"DIA\":\n",
    "    valor_dia = hora_diurna * usuario  \n",
    "    print(f\"Su valor de la jornada diurna es de: {valor_dia}\")\n",
    "elif usuario2 == \"NOCHE\":\n",
    "    valor_noche = hora_nocturna * usuario \n",
    "    print(f\"Su valor de la jornada nocturna es de: {valor_noche}\")\n",
    "else:\n",
    "    print(f\"Ingrese un valor válido\")\n"
   ]
  },
  {
   "cell_type": "code",
   "execution_count": null,
   "metadata": {},
   "outputs": [],
   "source": [
    "try:\n",
    "    n =int(input())\n",
    "    if n%2==0:\n",
    "        print(n*3)\n",
    "    else:\n",
    "        print(n/5)\n",
    "except:\n",
    "    print(\"Te equivocaste pasa un numero\")"
   ]
  },
  {
   "cell_type": "code",
   "execution_count": null,
   "metadata": {},
   "outputs": [],
   "source": [
    "art = input(\"Ingrese el nombre del articulo: \")\n",
    "clave = float(input(\"Ingrese la clave: \"))\n",
    "precio = float(input(\"Ingrese el precio del articulo: \"))\n",
    "\n",
    "if clave == 1:\n",
    "    desc = precio*0.1\n",
    "    precio_final1 = precio - desc\n",
    "    print(f\"El precio final de {art} es de: {precio_final1}\")\n",
    "elif clave == 2:\n",
    "    desc2 = precio*0.2\n",
    "    precio_final = precio - desc2\n",
    "    print(f\"El precio final de {art} es de: {precio_final}\")\n"
   ]
  },
  {
   "cell_type": "code",
   "execution_count": null,
   "metadata": {},
   "outputs": [],
   "source": [
    "print(\"Bienvenido querido usuario\")\n",
    "valor_camisa = 20000\n",
    "cantidad = int(input(\"Ingrese por favor la cantidad de camisas: \"))\n",
    "if cantidad >= 3:\n",
    "    descuento = valor_camisa*0.2\n",
    "    precio = valor_camisa - descuento\n",
    "    print(f\"El valor de las camisas son de: {precio:,.2f}\")\n",
    "\n",
    "elif cantidad < 3: \n",
    "    descuento1 = valor_camisa*0.1\n",
    "    precio1 = valor_camisa - descuento1\n",
    "    print(f\"El valor final es de: {precio1:,.2f}\")"
   ]
  },
  {
   "cell_type": "code",
   "execution_count": null,
   "metadata": {},
   "outputs": [],
   "source": [
    "print(\"Bienvenido al sistema, por favor ingresa a continuacion el nombre y tiempo del producto\")\n",
    "\n",
    "producto = input(\"Ingresa el nombre del producto: \")\n",
    "tiempo_p = int(input(\"Ingrese las semanas que tiene el producto sin vender: \"))\n",
    "valor_p = int(input(\"Ingresa el valor del producto: \"))\n",
    "\n",
    "if tiempo_p == 3:\n",
    "    desc = valor_p*0.25\n",
    "    final = valor_p - desc\n",
    "    print(f\"El {producto}, tenia un valor de {valor_p} y despues de un cierto tiempo el descuento es: {final}\")\n",
    "elif tiempo_p == 4:\n",
    "    desc1 = valor_p*0.50\n",
    "    final = valor_p - desc1\n",
    "    print(f\"El {producto}, tenia un valor de {valor_p} y despues de un cierto tiempo el descuento es: {final}\")\n",
    "elif tiempo_p >= 5:\n",
    "    desc2 = valor_p*0.75\n",
    "    final = valor_p - desc2\n",
    "    print(f\"El {producto}tenia un valor de {valor_p} y despues de un cierto tiempo el descuento es: {final}\")\n",
    "else:\n",
    "    print(f\"El {producto} no tiene descuento y su valor es de: {valor_p}\")"
   ]
  },
  {
   "cell_type": "code",
   "execution_count": null,
   "metadata": {},
   "outputs": [],
   "source": [
    "print(\"Bienvenido al almacen de llantas\\nHoy tenemos una increible promocion con las marcas \\\"ponchadas\\\"\")\n",
    "cantidad = int(input(\"Ingrese la cantidad de llantas que vas a comprar: \"))\n",
    "precio = 0\n",
    "if cantidad < 5:\n",
    "    precio += 30000\n",
    "    final = cantidad*precio\n",
    "    print(final)\n",
    "elif cantidad >= 5 and cantidad <= 10:\n",
    "    precio +=25000\n",
    "    final = cantidad*precio\n",
    "    print(final)\n",
    "elif cantidad > 10:\n",
    "    precio +=20000\n",
    "    final = cantidad*precio\n",
    "    print(final)"
   ]
  },
  {
   "cell_type": "code",
   "execution_count": 3,
   "metadata": {},
   "outputs": [
    {
     "name": "stdout",
     "output_type": "stream",
     "text": [
      "el valor de su pera es de 7200.0\n"
     ]
    }
   ],
   "source": [
    "cantidad_de_peras= int(input(\"cuantas peras deseas coprar\"))\n",
    "\n",
    "precio_de_la_pera=2000\n",
    "\n",
    "precio_total= precio_de_la_pera*cantidad_de_peras\n",
    "\n",
    "if cantidad_de_peras <=2:\n",
    "    descuento=0\n",
    "elif cantidad_de_peras <=5:\n",
    "    descuento=0.1\n",
    "elif cantidad_de_peras <=10:\n",
    "    descuento=0.15\n",
    "elif cantidad_de_peras >=11:\n",
    "    descuento=0.18\n",
    "descuentos_pesos=precio_total*descuento\n",
    "precioFinal=precio_total - descuentos_pesos\n",
    "print(f\"el valor de su pera es de {precioFinal}\") "
   ]
  },
  {
   "cell_type": "code",
   "execution_count": null,
   "metadata": {},
   "outputs": [],
   "source": [
    "tiempo = float(input(\"Ingrese los años de antiguedad con la empresa: \"))\n",
    "utilidad = 0\n",
    "salariomensual=float(input(\"ingrese salario mensual :\"))\n",
    "if tiempo < 1:\n",
    "    utilidad = \"No aplica\"\n",
    "    print(utilidad)\n",
    "elif tiempo <= 2:\n",
    "    utilidad = \"la utilidad es del 10%\"\n",
    "    ingresototal= salariomensual * 0.1\n",
    "    alaño=salariomensual *12\n",
    "    \n",
    "    print(f\"{utilidad} que es {ingresototal} y al año estas ganando {alaño} \")\n",
    "elif tiempo  < 5:\n",
    "    utilidad = \"la utilidad es del 20%\" \n",
    "    ingresototal= salariomensual * 0.2\n",
    "    \n",
    "    print(f\"{utilidad} que es {ingresototal}\")\n",
    "elif tiempo  < 10:\n",
    "    utilidad = \"la utilidad es del 30%\" \n",
    "    ingresototal= salariomensual * 0.3\n",
    "    alaño=salariomensual *12\n",
    "    print(f\"{utilidad} que es {ingresototal} y al año estas ganando {alaño} \")\n",
    "else:\n",
    "    utilidad = \"la utilidad es del 50%\" \n",
    "    ingresototal= salariomensual * 0.5\n",
    "    alaño=salariomensual *12\n",
    "    print(f\"{utilidad} que es {ingresototal} y al año estas ganando {alaño} \")\n",
    "    \n",
    "\n",
    "    "
   ]
  },
  {
   "cell_type": "code",
   "execution_count": 31,
   "metadata": {},
   "outputs": [
    {
     "name": "stdout",
     "output_type": "stream",
     "text": [
      "Tienes un descuento de tu compra de el 20% que es: 20000.0 y tu compra te queda en 80000.0\n",
      "te salio el numero 89\n"
     ]
    }
   ],
   "source": [
    "import random\n",
    "num = random.randint(1,100)\n",
    "compra = float(input(\"Ingrese el valor de su compra: \"))\n",
    "descuento = 0\n",
    "if num < 74:\n",
    "   \n",
    "    descuento = compra*0.15\n",
    "    descuentaso=compra - descuento\n",
    "    print(f\"Tienes un descuento de tu compra de el 15% que es: {descuento} y tu compra te queda en {descuentaso} \")\n",
    "elif num >=74:\n",
    "    descuento = compra*0.20\n",
    "    descuentaso=compra - descuento\n",
    "    print(f\"Tienes un descuento de tu compra de el 20% que es: {descuento} y tu compra te queda en {descuentaso}\")\n",
    "print(f\"te salio el numero {num}\")\n"
   ]
  },
  {
   "cell_type": "code",
   "execution_count": null,
   "metadata": {},
   "outputs": [],
   "source": [
    "letra=input(\"ingrese una letra de la A a la E\")\n",
    "letra=letra.upper()\n",
    "\n",
    "if letra == 'A':\n",
    "    print(f\"excelente\")\n",
    "elif letra == 'B':\n",
    "    print(f\"Bueno\")\n",
    "elif letra == 'C':\n",
    "    print(f\"Regular\")\n",
    "elif letra == 'D':\n",
    "    print(f\"Malo\")\n",
    "elif letra == 'E':\n",
    "    print(f\"Pesimo\")\n",
    "else:\n",
    "    print(\"ERROR ingrese letra de la A a la E\")"
   ]
  },
  {
   "cell_type": "code",
   "execution_count": 2,
   "metadata": {},
   "outputs": [
    {
     "name": "stdout",
     "output_type": "stream",
     "text": [
      "Bienvenido al sistema academico por favor ingrese sus 3 notas\n",
      "tu final es 4.0 Felicitaciones\n"
     ]
    }
   ],
   "source": [
    "print(\"Bienvenido al sistema academico por favor ingrese sus 3 notas\")\n",
    "not1 = float(input(\"Ingrese la nota del primer corte: \"))\n",
    "not2 = float(input(\"Ingrese la nota del segundo corte: \"))\n",
    "not3 = float(input(\"Ingrese la nota del tercer corte: \"))\n",
    "\n",
    "final = (not1 + not2 + not3)/3\n",
    "if final <= 5.0:\n",
    "        print(f\"tu final es {final} Felicitaciones\")\n",
    "elif final <=4.0:\n",
    "        print(f\"tu final es {final} Muy bien\")\n",
    "elif final <= 3.0:\n",
    "    print(f\"tu final es {final} muy bien, puedes mejorar\")\n",
    "elif final < 3.0:\n",
    "       print(f\"tu final es {final} Reprobaste\")\n",
    "else:\n",
    "       print(\"los datos son invalidos por favor ingresa las notas recuerda que son del 1 al 5\")"
   ]
  },
  {
   "cell_type": "code",
   "execution_count": null,
   "metadata": {},
   "outputs": [
    {
     "name": "stdout",
     "output_type": "stream",
     "text": [
      "ingresa una Categoria correcta\n"
     ]
    }
   ],
   "source": [
    "sueldo=int(input(\"Ingresa Tu sueldo\"))\n",
    "\n",
    "categoria=float(input(\"cual es tu categoria\"))\n",
    "\n",
    "if categoria ==1:\n",
    "    aumento=sueldo * 0.15\n",
    "    cuantoSubio=aumento + sueldo\n",
    "    print(f\"tu Aumento sera de del 15% exactamente : {aumento} eso quiere decir que ganaras {cuantoSubio}\")\n",
    "elif categoria ==2:\n",
    "    aumento=sueldo * 0.1\n",
    "    cuantoSubio=aumento + sueldo\n",
    "    print(f\"tu Aumento sera de del 10% exactamente : {aumento} eso quiere decir que ganaras {cuantoSubio}\")\n",
    "elif categoria ==3:\n",
    "    aumento=sueldo * 0.08\n",
    "    cuantoSubio=aumento + sueldo\n",
    "    print(f\"tu Aumento sera de del 8% exactamente : {aumento} eso quiere decir que ganaras {cuantoSubio}\")\n",
    "elif categoria ==4:\n",
    "    aumento=sueldo * 0.07\n",
    "    cuantoSubio=aumento + sueldo\n",
    "    print(f\"tu Aumento sera de del 7% exactamente : {aumento} eso quiere decir que ganaras {cuantoSubio}\")\n",
    "else:\n",
    "    print(f\"ingresa una Categoria correcta\")"
   ]
  },
  {
   "cell_type": "code",
   "execution_count": null,
   "metadata": {},
   "outputs": [
    {
     "name": "stdout",
     "output_type": "stream",
     "text": [
      "\n",
      "RESUMEN DE PRODUCTOS POR RUBRO\n",
      "panaderia 0\n",
      "Almacen 0\n",
      "frescos 1\n",
      "bazar 0\n"
     ]
    }
   ],
   "source": [
    "cantidadPanaderia=0\n",
    "cantidadAlmacen=0\n",
    "cantidadFrescos=0\n",
    "cantidadBazar=0\n",
    "\n",
    "numeroArticulo=int(input(\"ingrese numero de articulo\"))\n",
    "for i in range(numeroArticulo):\n",
    "    codigo = int(input(f\"Ingrese el código del artículo {i+1} (10, 20, 30, 40): \"))\n",
    "if codigo ==10:\n",
    "    cantidadPanaderia +=1\n",
    "elif codigo ==20:\n",
    "    cantidadAlmacen +=1\n",
    "elif codigo == 30:\n",
    "    cantidadFrescos +=1\n",
    "elif codigo == 40:\n",
    "    cantidadFrescos +=1\n",
    "else:\n",
    "    print(f\"ingrese un codigo correcto {codigo}\")\n",
    "print(f\"\\nRESUMEN DE PRODUCTOS POR RUBRO\")\n",
    "print(f\"panaderia {cantidadPanaderia}\")\n",
    "print(f\"Almacen {cantidadAlmacen}\")\n",
    "print(f\"frescos {cantidadFrescos}\")\n",
    "print(f\"bazar {cantidadBazar}\")\n",
    "      \n",
    "\n",
    "\n"
   ]
  },
  {
   "cell_type": "code",
   "execution_count": null,
   "metadata": {},
   "outputs": [
    {
     "name": "stdout",
     "output_type": "stream",
     "text": [
      "Felicidades acabas de ganar el 20% de descuento eso equivale a que tu compra queda en 16000.0\n"
     ]
    }
   ],
   "source": [
    "total=float(input(\"ingrese el valor de su compra\"))\n",
    "letra=input(\"Tienes la posibilidad de ganar descuentos elige una bola R es Roja A es Azul y Blanca es B\")\n",
    "letra=letra.upper()\n",
    "if letra == 'R':\n",
    "    descuento=total * 0.3\n",
    "    resultadofinal=total - descuento\n",
    "    print(F\"Felicidades acabas de ganar el 30% de descuento eso equivale a que tu compra queda en {resultadofinal}\")\n",
    "elif letra == 'A':\n",
    "    descuento=total * 0.2\n",
    "    resultadofinal=total - descuento\n",
    "    print(F\"Felicidades acabas de ganar el 20% de descuento eso equivale a que tu compra queda en {resultadofinal}\")\n",
    "elif letra == 'B':\n",
    "    print(f\"Lo siento no Ganaste Nada\")\n",
    "else:\n",
    "    print(f\"ERROR ingrese de nuevo\")"
   ]
  }
 ],
 "metadata": {
  "kernelspec": {
   "display_name": "Python 3",
   "language": "python",
   "name": "python3"
  },
  "language_info": {
   "codemirror_mode": {
    "name": "ipython",
    "version": 3
   },
   "file_extension": ".py",
   "mimetype": "text/x-python",
   "name": "python",
   "nbconvert_exporter": "python",
   "pygments_lexer": "ipython3",
   "version": "3.12.4"
  }
 },
 "nbformat": 4,
 "nbformat_minor": 2
}
