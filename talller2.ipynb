{
 "cells": [
  {
   "cell_type": "code",
   "execution_count": 2,
   "metadata": {},
   "outputs": [
    {
     "name": "stdout",
     "output_type": "stream",
     "text": [
      "salario bruto 720000\n",
      "salario neto 630000.0\n",
      "retencion de la fuente 90000.0\n"
     ]
    }
   ],
   "source": [
    "horasdetrabajo=48\n",
    "salarioXhora=15000\n",
    "porcentaje=12.5/100\n",
    "\n",
    "totaldeacumulado=horasdetrabajo * salarioXhora\n",
    "retencion = totaldeacumulado * porcentaje\n",
    "salarioNeto = totaldeacumulado - retencion\n",
    "\n",
    "print(f\"salario bruto {totaldeacumulado}\")\n",
    "print(f\"salario neto {salarioNeto}\")\n",
    "print(f\"retencion de la fuente {retencion}\")\n",
    "\n"
   ]
  },
  {
   "cell_type": "code",
   "execution_count": null,
   "metadata": {},
   "outputs": [],
   "source": [
    "Velocidad = float(input(\"Ingresa por favor la velocidad constante: \"))\n",
    "tiempo_en_hora = float(input(\"Ingresa el tiempo que viajo el carro en horas: \"))\n",
    "distancia_en_km = Velocidad * tiempo_en_hora\n",
    "print(f\"El coche ha recorrido {distancia_en_km} km en {tiempo_en_hora} horas a una velocidad constante de {Velocidad}\")\n",
    "Velocidad_en_min = (Velocidad * 1000) / 60 \n",
    "tiempo_minutos = tiempo_en_hora * 60\n",
    "distancia_en_metros = Velocidad_en_min * tiempo_minutos\n",
    "print(f\"Esto equivale a {distancia_en_metros} metros en {tiempo_minutos} minutos.\")\n"
   ]
  },
  {
   "cell_type": "code",
   "execution_count": 12,
   "metadata": {},
   "outputs": [
    {
     "name": "stdout",
     "output_type": "stream",
     "text": [
      "los kilos que convertiste equivale a 0.002 toneladas\n",
      "los kilos que convertiste equivalen a 2000.0 gramos\n"
     ]
    }
   ],
   "source": [
    "conversion=float(input(\"escribe los kilos que quieras convertir \"))\n",
    "\n",
    "\n",
    "tonelada=1000\n",
    "kilo=conversion\n",
    "gramo=1000\n",
    "kilosXtonelada= kilo / tonelada\n",
    "convertir=kilosXtonelada\n",
    "\n",
    "kilosXgramos=kilo * gramo\n",
    "\n",
    "print(f\"los kilos que convertiste equivale a {kilosXtonelada} toneladas\")\n",
    "print(f\"los kilos que convertiste equivalen a {kilosXgramos} gramos\")"
   ]
  },
  {
   "cell_type": "code",
   "execution_count": 39,
   "metadata": {},
   "outputs": [
    {
     "name": "stdout",
     "output_type": "stream",
     "text": [
      "tus kilometros 20 equivalen a 44444 pasos\n"
     ]
    }
   ],
   "source": [
    "algoritmo=int(input(\"cuantos pasos quieres calcular en kilometros :\"))\n",
    "\n",
    "pasos=45\n",
    "centimetros=100000\n",
    "\n",
    "kilometros=algoritmo\n",
    "epa= kilometros * centimetros\n",
    "equivalencia = epa / pasos\n",
    "\n",
    "print(f\"tus kilometros {kilometros} equivalen a {equivalencia:.0f} pasos\")"
   ]
  },
  {
   "cell_type": "code",
   "execution_count": null,
   "metadata": {},
   "outputs": [],
   "source": [
    "km_recorridos = int(input(\"Ingrese los kilómetros recorridos por el carro: \"))\n",
    "km_por_cambio = 5000\n",
    "cambios_de_aceite = km_recorridos // km_por_cambio\n",
    "if km_recorridos % km_por_cambio == 0:\n",
    "    cambios_de_aceite += 1\n",
    "print(f\"Necesita realizar {cambios_de_aceite} cambios de aceite.\")"
   ]
  },
  {
   "cell_type": "code",
   "execution_count": 47,
   "metadata": {},
   "outputs": [
    {
     "name": "stdout",
     "output_type": "stream",
     "text": [
      "Usd 5.0\n"
     ]
    }
   ],
   "source": [
    "\n",
    "\n",
    "moneda=float(input(\"ingresa el valor que deseas convertir : \"))\n",
    "usd = moneda\n",
    "cop = 4000\n",
    "precio= usd / cop\n",
    "print(f\"Usd {precio}\")"
   ]
  },
  {
   "cell_type": "code",
   "execution_count": 58,
   "metadata": {},
   "outputs": [
    {
     "name": "stdout",
     "output_type": "stream",
     "text": [
      "ok mi querido calvo su salario Bruto es de 392000.0 pesos y neto le entran exactamente 313600.0 pesos\n"
     ]
    }
   ],
   "source": [
    "nombre=input(\"Hola mi querido empleado digite el Nombre : \")\n",
    "horatrabajada=int(input(\"ingrese aqui las horas de trabajo : \"))\n",
    "precioXhora=float(input(\"aqui ingrese cuanto cuesta la Hora : \"))\n",
    "retencion=0.2\n",
    "salarioBruto=horatrabajada * precioXhora\n",
    "\n",
    "salarioneto= salarioBruto  * retencion\n",
    "\n",
    "reten= salarioBruto - salarioneto\n",
    "\n",
    "print(f\"ok mi querido {nombre} su salario Bruto es de {salarioBruto} pesos y neto le entran exactamente {reten} pesos\")"
   ]
  },
  {
   "cell_type": "code",
   "execution_count": null,
   "metadata": {},
   "outputs": [],
   "source": [
    "centimetros = float(input(\"Ingrese por favor los centimetro: \"))\n",
    "metros = centimetros//100\n",
    "milimetros = centimetros*10\n",
    "usuario = input(\"Por favor ingresa el dato que deseas, si quieres los cm en m o en mili: \").upper()\n",
    "if usuario == \"M\":\n",
    "    print(f\"Los cm son {centimetros} y los metros son de {metros}\")\n",
    "elif usuario == \"MILI\":\n",
    "    print(F\"Los cm son {centimetros} y los milimetros son de {milimetros}\")"
   ]
  },
  {
   "cell_type": "code",
   "execution_count": 59,
   "metadata": {},
   "outputs": [
    {
     "name": "stdout",
     "output_type": "stream",
     "text": [
      "el total de la matricula pa tu semestre es de 575000.0\n"
     ]
    }
   ],
   "source": [
    "matricula=float(input(\"ingrese las horas de clase del semestre\"))\n",
    "\n",
    "hora=115000\n",
    "\n",
    "costo=matricula * hora\n",
    "\n",
    "print(f\"el total de la matricula pa tu semestre es de {costo}\")"
   ]
  },
  {
   "cell_type": "code",
   "execution_count": 70,
   "metadata": {},
   "outputs": [
    {
     "name": "stdout",
     "output_type": "stream",
     "text": [
      "estos son los billetes de 50 que pusiste 20 \n",
      "eso en billetes de 50000 equivalen a 1000000\n",
      " esto equivale 1000 monedas  y el peso en gramos es 20000 \n",
      "el peso de la monedas en kilo es 20kg\n"
     ]
    }
   ],
   "source": [
    "\n",
    "billetes=int(input(\"cuantas billetes de 50 quieres convertir \"))\n",
    "billete=50000\n",
    "\n",
    "tt=billetes*billete\n",
    "gramos=20\n",
    "modedas=1000\n",
    "\n",
    "dinero= tt / modedas\n",
    "\n",
    "peso=gramos * dinero\n",
    "kilo=peso / modedas\n",
    "print(f\"estos son los billetes de 50 que pusiste {billetes} \")\n",
    "print(f\"eso en billetes de 50000 equivalen a {tt}\")\n",
    "print(f\" esto equivale {dinero:.0f} monedas  y el peso en gramos es {peso:.0f} \")\n",
    "print(f\"el peso de la monedas en kilo es {kilo:.0f}kg\")\n"
   ]
  }
 ],
 "metadata": {
  "kernelspec": {
   "display_name": "Python 3",
   "language": "python",
   "name": "python3"
  },
  "language_info": {
   "codemirror_mode": {
    "name": "ipython",
    "version": 3
   },
   "file_extension": ".py",
   "mimetype": "text/x-python",
   "name": "python",
   "nbconvert_exporter": "python",
   "pygments_lexer": "ipython3",
   "version": "3.12.4"
  }
 },
 "nbformat": 4,
 "nbformat_minor": 2
}
